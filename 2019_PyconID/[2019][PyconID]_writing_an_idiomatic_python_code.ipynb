{
 "cells": [
  {
   "cell_type": "markdown",
   "metadata": {
    "slideshow": {
     "slide_type": "slide"
    }
   },
   "source": [
    "# Writing an Idiomatic Python Code\n",
    "## a.k.a. Pythonic\n",
    "\n",
    "prepared and presented by Boedy for PyConID 2019 <br/> <br/>\n",
    "Twitter: [@boedybios](https://twitter.com/boedybios) <br/>\n",
    "Github: [https://github.com/boedybios/](https://github.com/boedybios/)"
   ]
  },
  {
   "cell_type": "markdown",
   "metadata": {
    "slideshow": {
     "slide_type": "slide"
    }
   },
   "source": [
    "# Who am I?\n",
    "\n",
    "\n",
    "- [http://it.maranatha.edu/resume/setiabudi/](http://it.maranatha.edu/resume/setiabudi/)\n",
    "- [https://www.youtube.com/IndonesiaBelajarKomputer](https://www.youtube.com/IndonesiaBelajarKomputer)\n",
    "- [https://github.com/boedybios](https://github.com/boedybios)"
   ]
  },
  {
   "cell_type": "markdown",
   "metadata": {
    "slideshow": {
     "slide_type": "slide"
    }
   },
   "source": [
    "# What is Idiomatic Python?"
   ]
  },
  {
   "cell_type": "markdown",
   "metadata": {
    "slideshow": {
     "slide_type": "slide"
    }
   },
   "source": [
    "## The Zen of Python"
   ]
  },
  {
   "cell_type": "code",
   "execution_count": 1,
   "metadata": {},
   "outputs": [
    {
     "name": "stdout",
     "output_type": "stream",
     "text": [
      "3.7.7 (default, Mar 26 2020, 15:48:22) \n",
      "[GCC 7.3.0]\n"
     ]
    }
   ],
   "source": [
    "import sys\n",
    "print(sys.version)"
   ]
  },
  {
   "cell_type": "code",
   "execution_count": 2,
   "metadata": {},
   "outputs": [
    {
     "name": "stdout",
     "output_type": "stream",
     "text": [
      "The Zen of Python, by Tim Peters\n",
      "\n",
      "Beautiful is better than ugly.\n",
      "Explicit is better than implicit.\n",
      "Simple is better than complex.\n",
      "Complex is better than complicated.\n",
      "Flat is better than nested.\n",
      "Sparse is better than dense.\n",
      "Readability counts.\n",
      "Special cases aren't special enough to break the rules.\n",
      "Although practicality beats purity.\n",
      "Errors should never pass silently.\n",
      "Unless explicitly silenced.\n",
      "In the face of ambiguity, refuse the temptation to guess.\n",
      "There should be one-- and preferably only one --obvious way to do it.\n",
      "Although that way may not be obvious at first unless you're Dutch.\n",
      "Now is better than never.\n",
      "Although never is often better than *right* now.\n",
      "If the implementation is hard to explain, it's a bad idea.\n",
      "If the implementation is easy to explain, it may be a good idea.\n",
      "Namespaces are one honking great idea -- let's do more of those!\n"
     ]
    }
   ],
   "source": [
    "import this"
   ]
  },
  {
   "cell_type": "markdown",
   "metadata": {
    "slideshow": {
     "slide_type": "slide"
    }
   },
   "source": [
    "## [Conventional] Swapping Values Between Variables "
   ]
  },
  {
   "cell_type": "code",
   "execution_count": 3,
   "metadata": {},
   "outputs": [
    {
     "name": "stdout",
     "output_type": "stream",
     "text": [
      "var_a=10, var_b=20\n",
      "var_a=20, var_b=10\n"
     ]
    }
   ],
   "source": [
    "var_a = 10\n",
    "var_b = 20\n",
    "print(f'var_a={var_a}, var_b={var_b}')\n",
    "\n",
    "var_tmp = var_a\n",
    "var_a = var_b\n",
    "var_b = var_tmp\n",
    "print(f'var_a={var_a}, var_b={var_b}')"
   ]
  },
  {
   "cell_type": "markdown",
   "metadata": {
    "slideshow": {
     "slide_type": "subslide"
    }
   },
   "source": [
    "## [Pythonic] Swapping Values Between Variables (1/2)"
   ]
  },
  {
   "cell_type": "code",
   "execution_count": 4,
   "metadata": {},
   "outputs": [
    {
     "name": "stdout",
     "output_type": "stream",
     "text": [
      "var_a=10, var_b=20\n",
      "var_a=20, var_b=10\n"
     ]
    }
   ],
   "source": [
    "var_a = 10\n",
    "var_b = 20\n",
    "print(f'var_a={var_a}, var_b={var_b}')\n",
    "\n",
    "var_a, var_b = var_b, var_a\n",
    "print(f'var_a={var_a}, var_b={var_b}')"
   ]
  },
  {
   "cell_type": "markdown",
   "metadata": {
    "slideshow": {
     "slide_type": "subslide"
    }
   },
   "source": [
    "## [Pythonic] Swapping Values Among Variables (2/2)"
   ]
  },
  {
   "cell_type": "code",
   "execution_count": 79,
   "metadata": {},
   "outputs": [
    {
     "name": "stdout",
     "output_type": "stream",
     "text": [
      "var_a=10, var_b=20, var_c=30, var_d=40\n",
      "var_a=30, var_b=10, var_c=40, var_d=20\n"
     ]
    }
   ],
   "source": [
    "var_a = 10\n",
    "var_b = 20\n",
    "var_c = 30\n",
    "var_d = 40\n",
    "print(f'var_a={var_a}, var_b={var_b}, var_c={var_c}, var_d={var_d}')\n",
    "\n",
    "var_a, var_b, var_c, var_d = var_c, var_a, var_d, var_b\n",
    "print(f'var_a={var_a}, var_b={var_b}, var_c={var_c}, var_d={var_d}')"
   ]
  },
  {
   "cell_type": "markdown",
   "metadata": {
    "slideshow": {
     "slide_type": "slide"
    }
   },
   "source": [
    "## [Conventional] Chained Comparison"
   ]
  },
  {
   "cell_type": "code",
   "execution_count": 6,
   "metadata": {},
   "outputs": [
    {
     "name": "stdout",
     "output_type": "stream",
     "text": [
      "True\n"
     ]
    }
   ],
   "source": [
    "LOWER = 20\n",
    "UPPER = 30\n",
    "a = 25\n",
    "print(a >= LOWER and a <= UPPER)"
   ]
  },
  {
   "cell_type": "markdown",
   "metadata": {
    "slideshow": {
     "slide_type": "subslide"
    }
   },
   "source": [
    "## [Pythonic] Chained Comparison"
   ]
  },
  {
   "cell_type": "code",
   "execution_count": 7,
   "metadata": {},
   "outputs": [
    {
     "name": "stdout",
     "output_type": "stream",
     "text": [
      "True\n"
     ]
    }
   ],
   "source": [
    "LOWER = 10\n",
    "UPPER = 30\n",
    "a = 25\n",
    "print(LOWER <= a <= UPPER)"
   ]
  },
  {
   "cell_type": "markdown",
   "metadata": {
    "slideshow": {
     "slide_type": "slide"
    }
   },
   "source": [
    "## [Conventional] Values Packing"
   ]
  },
  {
   "cell_type": "code",
   "execution_count": 8,
   "metadata": {},
   "outputs": [
    {
     "name": "stdout",
     "output_type": "stream",
     "text": [
      "a=10, b=20, c=30\n",
      "p=[10, 20, 30]\n"
     ]
    }
   ],
   "source": [
    "a = 10\n",
    "b = 20\n",
    "c = 30\n",
    "print(f'a={a}, b={b}, c={c}')\n",
    "\n",
    "p = [None, None, None]\n",
    "p[0] = a\n",
    "p[1] = b\n",
    "p[2] = c\n",
    "print(f'p={p}')"
   ]
  },
  {
   "cell_type": "markdown",
   "metadata": {
    "slideshow": {
     "slide_type": "subslide"
    }
   },
   "source": [
    "## [Pythonic] Values Packing"
   ]
  },
  {
   "cell_type": "code",
   "execution_count": 9,
   "metadata": {},
   "outputs": [
    {
     "name": "stdout",
     "output_type": "stream",
     "text": [
      "x=10, y=20, z=30\n",
      "p=(10, 20, 30)\n"
     ]
    }
   ],
   "source": [
    "x, y, z = 10, 20, 30\n",
    "print(f'x={x}, y={y}, z={z}')\n",
    "\n",
    "p = x, y, z\n",
    "print(f'p={p}')"
   ]
  },
  {
   "cell_type": "markdown",
   "metadata": {
    "slideshow": {
     "slide_type": "slide"
    }
   },
   "source": [
    "## [Conventional] Values Unpacking"
   ]
  },
  {
   "cell_type": "code",
   "execution_count": 10,
   "metadata": {},
   "outputs": [
    {
     "name": "stdout",
     "output_type": "stream",
     "text": [
      "p=[10, 20, 30]\n",
      "a=10, b=20, c=30\n"
     ]
    }
   ],
   "source": [
    "p = [10, 20, 30]\n",
    "print(f'p={p}')\n",
    "\n",
    "a = p[0]\n",
    "b = p[1]\n",
    "c = p[2]\n",
    "print(f'a={a}, b={b}, c={c}')"
   ]
  },
  {
   "cell_type": "markdown",
   "metadata": {
    "slideshow": {
     "slide_type": "subslide"
    }
   },
   "source": [
    "## [Pythonic] Values Unpacking"
   ]
  },
  {
   "cell_type": "code",
   "execution_count": 11,
   "metadata": {},
   "outputs": [
    {
     "name": "stdout",
     "output_type": "stream",
     "text": [
      "p=[10, 20, 30]\n",
      "x=10, y=20, z=30\n"
     ]
    }
   ],
   "source": [
    "p = [10, 20, 30]\n",
    "print(f'p={p}')\n",
    "\n",
    "x, y, z = p\n",
    "print(f'x={x}, y={y}, z={z}')"
   ]
  },
  {
   "cell_type": "markdown",
   "metadata": {
    "slideshow": {
     "slide_type": "slide"
    }
   },
   "source": [
    "## [Conventional] For Loop"
   ]
  },
  {
   "cell_type": "code",
   "execution_count": 12,
   "metadata": {},
   "outputs": [
    {
     "name": "stdout",
     "output_type": "stream",
     "text": [
      "10\n",
      "20\n",
      "30\n"
     ]
    }
   ],
   "source": [
    "list_ku = [10, 20, 30]\n",
    "\n",
    "for i in range(len(list_ku)):\n",
    "    print(list_ku[i])"
   ]
  },
  {
   "cell_type": "markdown",
   "metadata": {
    "slideshow": {
     "slide_type": "subslide"
    }
   },
   "source": [
    "## [Pythonic] For Loop"
   ]
  },
  {
   "cell_type": "code",
   "execution_count": 13,
   "metadata": {},
   "outputs": [
    {
     "name": "stdout",
     "output_type": "stream",
     "text": [
      "10\n",
      "20\n",
      "30\n"
     ]
    }
   ],
   "source": [
    "list_ku = [10, 20, 30]\n",
    "\n",
    "for item in list_ku:\n",
    "    print(item)"
   ]
  },
  {
   "cell_type": "markdown",
   "metadata": {
    "slideshow": {
     "slide_type": "slide"
    }
   },
   "source": [
    "## [Conventional] For Loop with Index"
   ]
  },
  {
   "cell_type": "code",
   "execution_count": 14,
   "metadata": {},
   "outputs": [
    {
     "name": "stdout",
     "output_type": "stream",
     "text": [
      "nim:001\t nama:bejo\n",
      "nim:002\t nama:karti\n",
      "nim:003\t nama:tejo\n"
     ]
    }
   ],
   "source": [
    "nims  = ['001', '002', '003']\n",
    "namas = ['bejo', 'karti', 'tejo']\n",
    "\n",
    "for i in range(len(nims)):\n",
    "    print(f'nim:{nims[i]}\\t nama:{namas[i]}')"
   ]
  },
  {
   "cell_type": "markdown",
   "metadata": {
    "slideshow": {
     "slide_type": "subslide"
    }
   },
   "source": [
    "## [Pythonic] For Loop with Index (enumerate)"
   ]
  },
  {
   "cell_type": "code",
   "execution_count": 15,
   "metadata": {},
   "outputs": [
    {
     "name": "stdout",
     "output_type": "stream",
     "text": [
      "nim:001\t nama:bejo\n",
      "nim:002\t nama:karti\n",
      "nim:003\t nama:tejo\n"
     ]
    }
   ],
   "source": [
    "nims  = ['001', '002', '003']\n",
    "namas = ['bejo', 'karti', 'tejo']\n",
    "\n",
    "for i, nim in enumerate(nims):\n",
    "    print(f'nim:{nim}\\t nama:{namas[i]}')"
   ]
  },
  {
   "cell_type": "markdown",
   "metadata": {
    "slideshow": {
     "slide_type": "slide"
    }
   },
   "source": [
    "## [Conventional] For Loop over Multiple Sequence Data Types"
   ]
  },
  {
   "cell_type": "code",
   "execution_count": 16,
   "metadata": {},
   "outputs": [
    {
     "name": "stdout",
     "output_type": "stream",
     "text": [
      "nim:001\t nama:bejo\n",
      "nim:002\t nama:ani\n",
      "nim:003\t nama:tejo\n"
     ]
    }
   ],
   "source": [
    "nims  = ['001', '002', '003']\n",
    "namas = ['bejo', 'ani', 'tejo']\n",
    "\n",
    "for i in range(len(nims)):\n",
    "    print(f'nim:{nims[i]}\\t nama:{namas[i]}')"
   ]
  },
  {
   "cell_type": "markdown",
   "metadata": {
    "slideshow": {
     "slide_type": "subslide"
    }
   },
   "source": [
    "## [Pythonic] For Loop over Multiple Sequence Data Types (1/2)"
   ]
  },
  {
   "cell_type": "code",
   "execution_count": 17,
   "metadata": {},
   "outputs": [
    {
     "name": "stdout",
     "output_type": "stream",
     "text": [
      "nim:001\t nama:bejo\n",
      "nim:002\t nama:ani\n",
      "nim:003\t nama:tejo\n"
     ]
    }
   ],
   "source": [
    "nims  = ['001', '002', '003']\n",
    "namas = ['bejo', 'ani', 'tejo']\n",
    "\n",
    "for nim, nama in zip(nims, namas):\n",
    "    print(f'nim:{nim}\\t nama:{nama}')"
   ]
  },
  {
   "cell_type": "markdown",
   "metadata": {
    "slideshow": {
     "slide_type": "subslide"
    }
   },
   "source": [
    "## [Pythonic] For Loop over Multiple Sequence Data Types (2/2)"
   ]
  },
  {
   "cell_type": "code",
   "execution_count": 18,
   "metadata": {},
   "outputs": [
    {
     "name": "stdout",
     "output_type": "stream",
     "text": [
      "nim:001\t nama:bejo\t hobby:soccer\n",
      "nim:002\t nama:ani\t hobby:swimming\n",
      "nim:003\t nama:tejo\t hobby:hiking\n"
     ]
    }
   ],
   "source": [
    "nims    = ['001', '002', '003']\n",
    "namas   = ['bejo', 'ani', 'tejo']\n",
    "hobbies = ['soccer', 'swimming', 'hiking']\n",
    "\n",
    "for nim, nama, hobby in zip(nims, namas, hobbies):\n",
    "    print(f'nim:{nim}\\t nama:{nama}\\t hobby:{hobby}')"
   ]
  },
  {
   "cell_type": "markdown",
   "metadata": {
    "slideshow": {
     "slide_type": "slide"
    }
   },
   "source": [
    "## [Conventional] Mapping"
   ]
  },
  {
   "cell_type": "code",
   "execution_count": 19,
   "metadata": {},
   "outputs": [
    {
     "name": "stdout",
     "output_type": "stream",
     "text": [
      "listku=[10, 20, 30]\n",
      "listmu=[20, 40, 60]\n"
     ]
    }
   ],
   "source": [
    "def lipat_ganda(x):\n",
    "    return x*2\n",
    "\n",
    "listku = [10, 20, 30]\n",
    "listmu = []\n",
    "\n",
    "for item in listku:\n",
    "    listmu.append(lipat_ganda(item))\n",
    "\n",
    "print(f'listku={listku}')\n",
    "print(f'listmu={listmu}')"
   ]
  },
  {
   "cell_type": "markdown",
   "metadata": {
    "slideshow": {
     "slide_type": "subslide"
    }
   },
   "source": [
    "## [Functional] Mapping"
   ]
  },
  {
   "cell_type": "code",
   "execution_count": 20,
   "metadata": {},
   "outputs": [
    {
     "name": "stdout",
     "output_type": "stream",
     "text": [
      "listku=[10, 20, 30]\n",
      "listmu=[20, 40, 60]\n"
     ]
    }
   ],
   "source": [
    "listku = [10, 20, 30]\n",
    "listmu = list(map(lipat_ganda, listku))\n",
    "\n",
    "print(f'listku={listku}')\n",
    "print(f'listmu={listmu}')"
   ]
  },
  {
   "cell_type": "markdown",
   "metadata": {
    "slideshow": {
     "slide_type": "subslide"
    }
   },
   "source": [
    "## [Functional] Mapping + Lambda Expression"
   ]
  },
  {
   "cell_type": "code",
   "execution_count": 21,
   "metadata": {},
   "outputs": [
    {
     "name": "stdout",
     "output_type": "stream",
     "text": [
      "listku=[10, 20, 30]\n",
      "listmu=[20, 40, 60]\n"
     ]
    }
   ],
   "source": [
    "listku = [10, 20, 30]\n",
    "listmu = list(map(lambda x: x*2, listku))\n",
    "\n",
    "print(f'listku={listku}')\n",
    "print(f'listmu={listmu}')"
   ]
  },
  {
   "cell_type": "markdown",
   "metadata": {
    "slideshow": {
     "slide_type": "subslide"
    }
   },
   "source": [
    "## [Pythonic] Comprehension"
   ]
  },
  {
   "cell_type": "code",
   "execution_count": 22,
   "metadata": {},
   "outputs": [
    {
     "name": "stdout",
     "output_type": "stream",
     "text": [
      "listku=[10, 20, 30]\n",
      "listmu=[20, 40, 60]\n"
     ]
    }
   ],
   "source": [
    "listku = [10, 20, 30]\n",
    "listmu = [x*2 for x in listku]\n",
    "\n",
    "print(f'listku={listku}')\n",
    "print(f'listmu={listmu}')"
   ]
  },
  {
   "cell_type": "markdown",
   "metadata": {
    "slideshow": {
     "slide_type": "slide"
    }
   },
   "source": [
    "## [Conventional] Filtering"
   ]
  },
  {
   "cell_type": "code",
   "execution_count": 23,
   "metadata": {},
   "outputs": [
    {
     "name": "stdout",
     "output_type": "stream",
     "text": [
      "listku=[60, 55]\n"
     ]
    }
   ],
   "source": [
    "listmu = [30, 60, 10, 55]\n",
    "listku = []\n",
    "\n",
    "for nilai in listmu:\n",
    "    if nilai > 50:\n",
    "        listku.append(nilai)\n",
    "        \n",
    "print(f'listku={listku}')"
   ]
  },
  {
   "cell_type": "markdown",
   "metadata": {
    "slideshow": {
     "slide_type": "subslide"
    }
   },
   "source": [
    "## [Functional] Filtering"
   ]
  },
  {
   "cell_type": "code",
   "execution_count": 24,
   "metadata": {},
   "outputs": [
    {
     "name": "stdout",
     "output_type": "stream",
     "text": [
      "listku=[60, 55]\n"
     ]
    }
   ],
   "source": [
    "def saring(x):\n",
    "    return x > 50\n",
    "\n",
    "listmu = [30, 60, 10, 55]\n",
    "listku = []\n",
    "\n",
    "listku = list(filter(saring, listmu))\n",
    "\n",
    "print(f'listku={listku}')"
   ]
  },
  {
   "cell_type": "markdown",
   "metadata": {
    "slideshow": {
     "slide_type": "subslide"
    }
   },
   "source": [
    "## [Functional] Filtering + Lambda Expression"
   ]
  },
  {
   "cell_type": "code",
   "execution_count": 25,
   "metadata": {},
   "outputs": [
    {
     "name": "stdout",
     "output_type": "stream",
     "text": [
      "listku=[60, 55]\n"
     ]
    }
   ],
   "source": [
    "listmu = [30, 60, 10, 55]\n",
    "listku = []\n",
    "\n",
    "listku = list(filter(lambda x: True if x>50 else False, listmu))\n",
    "\n",
    "print(f'listku={listku}') "
   ]
  },
  {
   "cell_type": "markdown",
   "metadata": {
    "slideshow": {
     "slide_type": "subslide"
    }
   },
   "source": [
    "## [Pythonic] Comprehension"
   ]
  },
  {
   "cell_type": "code",
   "execution_count": 26,
   "metadata": {},
   "outputs": [
    {
     "name": "stdout",
     "output_type": "stream",
     "text": [
      "listku=[60, 55]\n"
     ]
    }
   ],
   "source": [
    "listmu = [30, 60, 10, 55]\n",
    "listku = [nilai for nilai in listmu if nilai > 50]\n",
    "\n",
    "print(f'listku={listku}')"
   ]
  },
  {
   "cell_type": "markdown",
   "metadata": {
    "slideshow": {
     "slide_type": "slide"
    }
   },
   "source": [
    "## [Conventional] Merging Multiple Sequence Data Type"
   ]
  },
  {
   "cell_type": "code",
   "execution_count": 27,
   "metadata": {},
   "outputs": [
    {
     "name": "stdout",
     "output_type": "stream",
     "text": [
      "listku=[['bejo', 23], ['karti', 31], ['tejo', 26]]\n"
     ]
    }
   ],
   "source": [
    "nama = ['bejo', 'karti', 'tejo']\n",
    "usia = [23, 31, 26]\n",
    "listku = []\n",
    "\n",
    "for i in range(len(nama)):\n",
    "    listku.append([nama[i], usia[i]])\n",
    "\n",
    "print(f'listku={listku}')"
   ]
  },
  {
   "cell_type": "markdown",
   "metadata": {
    "slideshow": {
     "slide_type": "subslide"
    }
   },
   "source": [
    "## [Pythonic] Merging Multiple Sequence Data Type"
   ]
  },
  {
   "cell_type": "code",
   "execution_count": 28,
   "metadata": {},
   "outputs": [
    {
     "name": "stdout",
     "output_type": "stream",
     "text": [
      "listku=[['bejo', 23], ['karti', 31], ['tejo', 26]]\n"
     ]
    }
   ],
   "source": [
    "listku = [[d_nama, d_usia] for d_nama, d_usia in zip(nama, usia)]\n",
    "\n",
    "print(f'listku={listku}')"
   ]
  },
  {
   "cell_type": "markdown",
   "metadata": {
    "slideshow": {
     "slide_type": "slide"
    }
   },
   "source": [
    "## [Conventional] Slicing a Sequence Data Type"
   ]
  },
  {
   "cell_type": "code",
   "execution_count": 29,
   "metadata": {},
   "outputs": [
    {
     "name": "stdout",
     "output_type": "stream",
     "text": [
      "listmu=[10, 20, 30, 40, 50, 60]\n",
      "listku=[30, 40, 50]\n"
     ]
    }
   ],
   "source": [
    "listmu = [10, 20, 30, 40, 50, 60]\n",
    "listku = []\n",
    "\n",
    "for i in range(2, 5):\n",
    "    listku.append(listmu[i])\n",
    "\n",
    "print(f'listmu={listmu}')\n",
    "print(f'listku={listku}')"
   ]
  },
  {
   "cell_type": "markdown",
   "metadata": {
    "slideshow": {
     "slide_type": "subslide"
    }
   },
   "source": [
    "## [Pythonic] Slicing a Sequence Data Type"
   ]
  },
  {
   "cell_type": "code",
   "execution_count": 30,
   "metadata": {},
   "outputs": [
    {
     "name": "stdout",
     "output_type": "stream",
     "text": [
      "listmu=[10, 20, 30, 40, 50, 60]\n",
      "listku=[30, 40, 50]\n",
      "listku=[50, 60]\n",
      "listku=[10, 20, 30, 40]\n",
      "BELAJAR\n"
     ]
    }
   ],
   "source": [
    "listmu = [10, 20, 30, 40, 50, 60]\n",
    "print(f'listmu={listmu}')\n",
    "\n",
    "listku = listmu[2:5]\n",
    "print(f'listku={listku}')\n",
    "\n",
    "listku = listmu[4:]\n",
    "print(f'listku={listku}')\n",
    "\n",
    "listku = listmu[:4]\n",
    "print(f'listku={listku}')\n",
    "\n",
    "kata = 'PEMBELAJARAN'\n",
    "print(kata[3:10])"
   ]
  },
  {
   "cell_type": "markdown",
   "metadata": {
    "slideshow": {
     "slide_type": "slide"
    }
   },
   "source": [
    "## [Conventional] Reversing a Sequence Data Type"
   ]
  },
  {
   "cell_type": "code",
   "execution_count": 31,
   "metadata": {},
   "outputs": [
    {
     "name": "stdout",
     "output_type": "stream",
     "text": [
      "listmu=[10, 20, 30, 40, 50, 60]\n",
      "listku=[60, 50, 40, 30, 20, 10]\n"
     ]
    }
   ],
   "source": [
    "listmu = [10, 20, 30, 40, 50, 60]\n",
    "listku = []\n",
    "\n",
    "for i in range(len(listmu)):\n",
    "    reverse_i = len(listmu) - 1 - i\n",
    "    listku.append(listmu[reverse_i])\n",
    "    \n",
    "print(f'listmu={listmu}')\n",
    "print(f'listku={listku}')"
   ]
  },
  {
   "cell_type": "markdown",
   "metadata": {
    "slideshow": {
     "slide_type": "subslide"
    }
   },
   "source": [
    "## [Pythonic] Reversing a Sequence Data Type"
   ]
  },
  {
   "cell_type": "code",
   "execution_count": 32,
   "metadata": {},
   "outputs": [
    {
     "name": "stdout",
     "output_type": "stream",
     "text": [
      "listmu=[10, 20, 30, 40, 50, 60]\n",
      "listku=[60, 50, 40, 30, 20, 10]\n",
      "kata=BELAJAR\n",
      "kata=RAJALEB\n"
     ]
    }
   ],
   "source": [
    "listmu = [10, 20, 30, 40, 50, 60]\n",
    "print(f'listmu={listmu}')\n",
    "\n",
    "listku = listmu[::-1]\n",
    "print(f'listku={listku}')\n",
    "\n",
    "kata = 'BELAJAR'\n",
    "print(f'kata={kata}')\n",
    "print(f'kata={kata[::-1]}')"
   ]
  },
  {
   "cell_type": "markdown",
   "metadata": {
    "slideshow": {
     "slide_type": "slide"
    }
   },
   "source": [
    "## [Conventional] Splitting a String"
   ]
  },
  {
   "cell_type": "code",
   "execution_count": 33,
   "metadata": {},
   "outputs": [
    {
     "name": "stdout",
     "output_type": "stream",
     "text": [
      "teks  : belajar python dasar\n",
      "listku: ['belajar', 'python', 'dasar']\n"
     ]
    }
   ],
   "source": [
    "teks   = 'belajar python dasar'\n",
    "listku = []\n",
    "kata   = ''\n",
    "\n",
    "for huruf in teks:\n",
    "    if huruf != ' ':\n",
    "        kata += huruf\n",
    "    else:\n",
    "        listku.append(kata)\n",
    "        kata = ''\n",
    "\n",
    "listku.append(kata)    \n",
    "\n",
    "print(f'teks  : {teks}')\n",
    "print(f'listku: {listku}')"
   ]
  },
  {
   "cell_type": "markdown",
   "metadata": {
    "slideshow": {
     "slide_type": "subslide"
    }
   },
   "source": [
    "## [Pythonic] Splitting a String (1/2)"
   ]
  },
  {
   "cell_type": "code",
   "execution_count": 34,
   "metadata": {},
   "outputs": [
    {
     "name": "stdout",
     "output_type": "stream",
     "text": [
      "teks  : belajar python dasar\n",
      "listku: ['belajar', 'python', 'dasar']\n"
     ]
    }
   ],
   "source": [
    "teks = 'belajar python dasar'\n",
    "listku = teks.split()\n",
    "\n",
    "print(f'teks  : {teks}')\n",
    "print(f'listku: {listku}')"
   ]
  },
  {
   "cell_type": "markdown",
   "metadata": {
    "slideshow": {
     "slide_type": "subslide"
    }
   },
   "source": [
    "## [Pythonic] Splitting a String (2/2)"
   ]
  },
  {
   "cell_type": "code",
   "execution_count": 35,
   "metadata": {},
   "outputs": [
    {
     "name": "stdout",
     "output_type": "stream",
     "text": [
      "teks  : belajar:python:dasar\n",
      "listku: ['belajar', 'python', 'dasar']\n"
     ]
    }
   ],
   "source": [
    "teks = 'belajar:python:dasar'\n",
    "listku = teks.split(':')\n",
    "\n",
    "print(f'teks  : {teks}')\n",
    "print(f'listku: {listku}')"
   ]
  },
  {
   "cell_type": "markdown",
   "metadata": {
    "slideshow": {
     "slide_type": "slide"
    }
   },
   "source": [
    "## [Conventional] String Concatenation"
   ]
  },
  {
   "cell_type": "code",
   "execution_count": 36,
   "metadata": {},
   "outputs": [
    {
     "name": "stdout",
     "output_type": "stream",
     "text": [
      "listku : ['belajar', 'python', 'dasar']\n",
      "kalimat: belajar python dasar \n"
     ]
    }
   ],
   "source": [
    "listku = ['belajar', 'python', 'dasar']\n",
    "kalimat = ''\n",
    "\n",
    "for kata in listku:\n",
    "    kalimat += kata + ' '\n",
    "\n",
    "print(f'listku : {listku}')\n",
    "print(f'kalimat: {kalimat}')"
   ]
  },
  {
   "cell_type": "markdown",
   "metadata": {
    "slideshow": {
     "slide_type": "subslide"
    }
   },
   "source": [
    "## [Pythonic] String Concatenation"
   ]
  },
  {
   "cell_type": "code",
   "execution_count": 37,
   "metadata": {},
   "outputs": [
    {
     "name": "stdout",
     "output_type": "stream",
     "text": [
      "listku : ['belajar', 'python', 'dasar']\n",
      "kalimat: belajar python dasar\n"
     ]
    }
   ],
   "source": [
    "listku = ['belajar', 'python', 'dasar']\n",
    "kalimat = ' '.join(listku)\n",
    "\n",
    "print(f'listku : {listku}')\n",
    "print(f'kalimat: {kalimat}')"
   ]
  },
  {
   "cell_type": "markdown",
   "metadata": {
    "slideshow": {
     "slide_type": "slide"
    }
   },
   "source": [
    "## [Conventional] Switch Case"
   ]
  },
  {
   "cell_type": "code",
   "execution_count": 38,
   "metadata": {},
   "outputs": [
    {
     "name": "stdout",
     "output_type": "stream",
     "text": [
      "dua-two\n"
     ]
    }
   ],
   "source": [
    "def one():\n",
    "    print('satu-one')\n",
    "\n",
    "def two():\n",
    "    print('dua-two')\n",
    "\n",
    "def three():\n",
    "    print('tiga-three')\n",
    "\n",
    "case = 'dua'\n",
    "\n",
    "if case == 'satu':\n",
    "    one()\n",
    "elif case == 'dua':\n",
    "    two()\n",
    "elif case == 'tiga':\n",
    "    three()"
   ]
  },
  {
   "cell_type": "markdown",
   "metadata": {
    "slideshow": {
     "slide_type": "subslide"
    }
   },
   "source": [
    "## [Pythonic] Switch Case"
   ]
  },
  {
   "cell_type": "code",
   "execution_count": 39,
   "metadata": {},
   "outputs": [
    {
     "name": "stdout",
     "output_type": "stream",
     "text": [
      "dua-two\n"
     ]
    }
   ],
   "source": [
    "def one():\n",
    "    print('satu-one')\n",
    "\n",
    "def two():\n",
    "    print('dua-two')\n",
    "\n",
    "def three():\n",
    "    print('tiga-three')\n",
    "\n",
    "case = 'dua'\n",
    "\n",
    "switch = {\n",
    "    'satu': one,\n",
    "    'dua': two,\n",
    "    'tiga': three\n",
    "}\n",
    "\n",
    "switch[case]()"
   ]
  },
  {
   "cell_type": "markdown",
   "metadata": {
    "slideshow": {
     "slide_type": "slide"
    }
   },
   "source": [
    "## [Conventional] List Concatenation"
   ]
  },
  {
   "cell_type": "code",
   "execution_count": 40,
   "metadata": {},
   "outputs": [
    {
     "name": "stdout",
     "output_type": "stream",
     "text": [
      "a=[10, 20, 30]\n",
      "b=[40, 50, 60]\n",
      "c=[10, 20, 30, 40, 50, 60]\n"
     ]
    }
   ],
   "source": [
    "a = [10, 20, 30]\n",
    "b = [40, 50, 60]\n",
    "\n",
    "print(f'a={a}')\n",
    "print(f'b={b}')\n",
    "\n",
    "c = [None] * (len(a) + len(b))\n",
    "\n",
    "for i in range(len(a)):\n",
    "    c[i] = a[i]\n",
    "    \n",
    "for i in range(len(b)):\n",
    "    c[i+len(a)] = b[i]\n",
    "    \n",
    "print(f'c={c}')"
   ]
  },
  {
   "cell_type": "markdown",
   "metadata": {
    "slideshow": {
     "slide_type": "subslide"
    }
   },
   "source": [
    "## [Pythonic] List Concatenation"
   ]
  },
  {
   "cell_type": "code",
   "execution_count": 41,
   "metadata": {},
   "outputs": [
    {
     "name": "stdout",
     "output_type": "stream",
     "text": [
      "a=[10, 20, 30]\n",
      "b=[40, 50, 60]\n",
      "c=[10, 20, 30, 40, 50, 60]\n"
     ]
    }
   ],
   "source": [
    "a = [10, 20, 30]\n",
    "b = [40, 50, 60]\n",
    "\n",
    "print(f'a={a}')\n",
    "print(f'b={b}')\n",
    "\n",
    "c = a + b\n",
    "print(f'c={c}')"
   ]
  },
  {
   "cell_type": "markdown",
   "metadata": {
    "slideshow": {
     "slide_type": "slide"
    }
   },
   "source": [
    "## [Conventional] Ternary Expression"
   ]
  },
  {
   "cell_type": "code",
   "execution_count": 42,
   "metadata": {},
   "outputs": [
    {
     "name": "stdout",
     "output_type": "stream",
     "text": [
      "10 bernilai positif\n"
     ]
    }
   ],
   "source": [
    "a = 10\n",
    "if a < 0:\n",
    "    b = 'negatif'\n",
    "else:\n",
    "    b = 'positif'\n",
    "    \n",
    "print(f'{a} bernilai {b}')\n"
   ]
  },
  {
   "cell_type": "markdown",
   "metadata": {
    "slideshow": {
     "slide_type": "subslide"
    }
   },
   "source": [
    "## [Pythonic] Ternary Expression"
   ]
  },
  {
   "cell_type": "code",
   "execution_count": 43,
   "metadata": {},
   "outputs": [
    {
     "name": "stdout",
     "output_type": "stream",
     "text": [
      "10 bernilai positif\n"
     ]
    }
   ],
   "source": [
    "a = 10\n",
    "b = 'negatif' if a < 0 else 'positif'\n",
    "\n",
    "print(f'{a} bernilai {b}')\n"
   ]
  },
  {
   "cell_type": "markdown",
   "metadata": {
    "slideshow": {
     "slide_type": "slide"
    }
   },
   "source": [
    "## [Conventional] Unused Variables"
   ]
  },
  {
   "cell_type": "code",
   "execution_count": 44,
   "metadata": {},
   "outputs": [
    {
     "name": "stdout",
     "output_type": "stream",
     "text": [
      "hello world\n",
      "hello world\n",
      "hello world\n"
     ]
    }
   ],
   "source": [
    "for i in range(3):\n",
    "    print('hello world')"
   ]
  },
  {
   "cell_type": "markdown",
   "metadata": {
    "slideshow": {
     "slide_type": "subslide"
    }
   },
   "source": [
    "## [Pythonic] Don't Care Character (1/3)"
   ]
  },
  {
   "cell_type": "code",
   "execution_count": 45,
   "metadata": {},
   "outputs": [
    {
     "name": "stdout",
     "output_type": "stream",
     "text": [
      "hello world\n",
      "hello world\n",
      "hello world\n"
     ]
    }
   ],
   "source": [
    "for _ in range(3):\n",
    "    print('hello world')"
   ]
  },
  {
   "cell_type": "markdown",
   "metadata": {
    "slideshow": {
     "slide_type": "subslide"
    }
   },
   "source": [
    "## [Pythonic] Don't Care Character (2/3)"
   ]
  },
  {
   "cell_type": "code",
   "execution_count": 46,
   "metadata": {},
   "outputs": [
    {
     "name": "stdout",
     "output_type": "stream",
     "text": [
      "a:10, b:20\n"
     ]
    }
   ],
   "source": [
    "x = [10, 20, 30, 40]\n",
    "a, b, *_ = x\n",
    "\n",
    "print(f'a:{a}, b:{b}')"
   ]
  },
  {
   "cell_type": "markdown",
   "metadata": {
    "slideshow": {
     "slide_type": "subslide"
    }
   },
   "source": [
    "## [Pythonic] Don't Care Character for Digital Placeholder (3/3)"
   ]
  },
  {
   "cell_type": "code",
   "execution_count": 47,
   "metadata": {},
   "outputs": [
    {
     "name": "stdout",
     "output_type": "stream",
     "text": [
      "gaji: 5000000\n"
     ]
    }
   ],
   "source": [
    "gaji = 5_000_000\n",
    "\n",
    "print(f'gaji: {gaji}')"
   ]
  },
  {
   "cell_type": "markdown",
   "metadata": {
    "slideshow": {
     "slide_type": "slide"
    }
   },
   "source": [
    "## [Conventional] Searching in a Sequence Data Type"
   ]
  },
  {
   "cell_type": "code",
   "execution_count": 48,
   "metadata": {},
   "outputs": [
    {
     "name": "stdout",
     "output_type": "stream",
     "text": [
      "ditemukan\n"
     ]
    }
   ],
   "source": [
    "listku = [10, 20, 30, 40, 50]\n",
    "dicari = 30\n",
    "ketemu = False\n",
    "\n",
    "for x in listku:\n",
    "    if x == dicari:\n",
    "        ketemu = True\n",
    "        break\n",
    "        \n",
    "if ketemu:\n",
    "    print('ditemukan')\n",
    "else:\n",
    "    print('tidak ditemukan')"
   ]
  },
  {
   "cell_type": "markdown",
   "metadata": {
    "slideshow": {
     "slide_type": "subslide"
    }
   },
   "source": [
    "## [Pythonic] in Operator"
   ]
  },
  {
   "cell_type": "code",
   "execution_count": 49,
   "metadata": {},
   "outputs": [
    {
     "name": "stdout",
     "output_type": "stream",
     "text": [
      "ditemukan\n"
     ]
    }
   ],
   "source": [
    "listku = [10, 20, 30, 40, 50]\n",
    "dicari = 30\n",
    "\n",
    "if dicari in listku:\n",
    "    print('ditemukan')\n",
    "else:\n",
    "    print('tidak ditemukan')"
   ]
  },
  {
   "cell_type": "markdown",
   "metadata": {
    "slideshow": {
     "slide_type": "slide"
    }
   },
   "source": [
    "## [Conventional] Function with Multiple Return Values"
   ]
  },
  {
   "cell_type": "code",
   "execution_count": 50,
   "metadata": {},
   "outputs": [
    {
     "name": "stdout",
     "output_type": "stream",
     "text": [
      "hasil1: 007\n",
      "hasil2: asep\n",
      "hasil2: 1.25\n"
     ]
    }
   ],
   "source": [
    "def fungsiku():\n",
    "    nim = '007'\n",
    "    nama = 'asep'\n",
    "    ipk = 1.25\n",
    "    siswa = [nim, nama, ipk]\n",
    "    return siswa\n",
    "\n",
    "hasil = fungsiku()\n",
    "\n",
    "print(f'hasil1: {hasil[0]}')\n",
    "print(f'hasil2: {hasil[1]}')\n",
    "print(f'hasil2: {hasil[2]}')"
   ]
  },
  {
   "cell_type": "markdown",
   "metadata": {
    "slideshow": {
     "slide_type": "subslide"
    }
   },
   "source": [
    "## [Pythonic] Function with Multiple Return Values"
   ]
  },
  {
   "cell_type": "code",
   "execution_count": 51,
   "metadata": {},
   "outputs": [
    {
     "name": "stdout",
     "output_type": "stream",
     "text": [
      "hasil1: 007\n",
      "hasil2: asep\n",
      "hasil2: 1.25\n"
     ]
    }
   ],
   "source": [
    "def fungsimu():\n",
    "    nim = '007'\n",
    "    nama = 'asep'\n",
    "    ipk = 1.25\n",
    "    return nim, nama, ipk\n",
    "\n",
    "a, b, c = fungsimu()\n",
    "\n",
    "print(f'hasil1: {a}')\n",
    "print(f'hasil2: {b}')\n",
    "print(f'hasil2: {c}')"
   ]
  },
  {
   "cell_type": "markdown",
   "metadata": {
    "slideshow": {
     "slide_type": "slide"
    }
   },
   "source": [
    "## [Conventional] Aggregating Values from Multiple Sequence Data Types"
   ]
  },
  {
   "cell_type": "code",
   "execution_count": 52,
   "metadata": {},
   "outputs": [
    {
     "name": "stdout",
     "output_type": "stream",
     "text": [
      "siswa: [('001', 'bejo', 3.25), ('002', 'karti', 2.33), ('003', 'tejo', 1.88)]\n"
     ]
    }
   ],
   "source": [
    "nim = ['001', '002', '003']\n",
    "nama = ['bejo', 'karti', 'tejo']\n",
    "ipk = [3.25, 2.33, 1.88]\n",
    "siswa = []\n",
    "\n",
    "for i in range(len(nim)):\n",
    "    siswa.append((nim[i], nama[i], ipk[i]))\n",
    "\n",
    "print(f'siswa: {siswa}')"
   ]
  },
  {
   "cell_type": "markdown",
   "metadata": {
    "slideshow": {
     "slide_type": "subslide"
    }
   },
   "source": [
    "## [Pythonic] zip Function"
   ]
  },
  {
   "cell_type": "code",
   "execution_count": 53,
   "metadata": {},
   "outputs": [
    {
     "name": "stdout",
     "output_type": "stream",
     "text": [
      "siswa: [('001', 'bejo', 3.25), ('002', 'karti', 2.33), ('003', 'tejo', 1.88)]\n"
     ]
    }
   ],
   "source": [
    "nim = ['001', '002', '003']\n",
    "nama = ['bejo', 'karti', 'tejo']\n",
    "ipk = [3.25, 2.33, 1.88]\n",
    "\n",
    "siswa = list(zip(nim, nama, ipk))\n",
    "\n",
    "print(f'siswa: {siswa}')"
   ]
  },
  {
   "cell_type": "markdown",
   "metadata": {
    "slideshow": {
     "slide_type": "slide"
    }
   },
   "source": [
    "## [Conventional] Extracting Values from Aggregated Sequence Data Types"
   ]
  },
  {
   "cell_type": "code",
   "execution_count": 54,
   "metadata": {},
   "outputs": [
    {
     "name": "stdout",
     "output_type": "stream",
     "text": [
      "nim : ['001', '002', '003']\n",
      "nama: ['bejo', 'karti', 'tejo']\n",
      "ipk : [3.25, 2.33, 1.88]\n"
     ]
    }
   ],
   "source": [
    "siswa = [('001', 'bejo', 3.25),\n",
    "         ('002', 'karti', 2.33),\n",
    "         ('003', 'tejo', 1.88)]\n",
    "nim, nama, ipk = [], [], []\n",
    "\n",
    "for data in siswa:\n",
    "    nim.append(data[0])\n",
    "    nama.append(data[1])\n",
    "    ipk.append(data[2])\n",
    "\n",
    "print(f'nim : {nim}')\n",
    "print(f'nama: {nama}')\n",
    "print(f'ipk : {ipk}')"
   ]
  },
  {
   "cell_type": "markdown",
   "metadata": {
    "slideshow": {
     "slide_type": "subslide"
    }
   },
   "source": [
    "## [Pythonic] \"unzip\" Function"
   ]
  },
  {
   "cell_type": "code",
   "execution_count": 55,
   "metadata": {},
   "outputs": [
    {
     "name": "stdout",
     "output_type": "stream",
     "text": [
      "nim : ('001', '002', '003')\n",
      "nama: ('bejo', 'karti', 'tejo')\n",
      "ipk : (3.25, 2.33, 1.88)\n"
     ]
    }
   ],
   "source": [
    "siswa = [('001', 'bejo', 3.25),\n",
    "         ('002', 'karti', 2.33),\n",
    "         ('003', 'tejo', 1.88)]\n",
    "\n",
    "nim, nama, ipk = zip(*siswa)\n",
    "\n",
    "print(f'nim : {nim}')\n",
    "print(f'nama: {nama}')\n",
    "print(f'ipk : {ipk}')"
   ]
  },
  {
   "cell_type": "markdown",
   "metadata": {
    "slideshow": {
     "slide_type": "slide"
    }
   },
   "source": [
    "## [Conventional] String Formatting"
   ]
  },
  {
   "cell_type": "code",
   "execution_count": 56,
   "metadata": {},
   "outputs": [
    {
     "name": "stdout",
     "output_type": "stream",
     "text": [
      "nama saya bejo usia saya 25 tahun \n",
      "nama saya bejo usia saya 25 tahun\n"
     ]
    }
   ],
   "source": [
    "nama = 'bejo'\n",
    "usia = 25\n",
    "\n",
    "print('nama saya ' + nama + ' usia saya ' + str(usia) + ' tahun ')\n",
    "print('nama saya %s usia saya %d tahun' % (nama, usia))"
   ]
  },
  {
   "cell_type": "markdown",
   "metadata": {
    "slideshow": {
     "slide_type": "subslide"
    }
   },
   "source": [
    "## [Pythonic] String Formatting (1/3)"
   ]
  },
  {
   "cell_type": "code",
   "execution_count": 57,
   "metadata": {},
   "outputs": [
    {
     "name": "stdout",
     "output_type": "stream",
     "text": [
      "nama saya bejo usia saya 25 tahun\n",
      "nama saya bejo usia saya 25 tahun\n"
     ]
    }
   ],
   "source": [
    "nama = 'bejo'\n",
    "usia = 25\n",
    "\n",
    "print('nama saya {} usia saya {} tahun'.format(nama, usia))\n",
    "print('nama saya {1} usia saya {0} tahun'.format(usia, nama))"
   ]
  },
  {
   "cell_type": "markdown",
   "metadata": {
    "slideshow": {
     "slide_type": "subslide"
    }
   },
   "source": [
    "## [Pythonic] Keyword Argument for String Formatting (2/3)"
   ]
  },
  {
   "cell_type": "code",
   "execution_count": 58,
   "metadata": {},
   "outputs": [
    {
     "name": "stdout",
     "output_type": "stream",
     "text": [
      "nama:bejo usia:25\n"
     ]
    }
   ],
   "source": [
    "siswa = {\n",
    "    'nim': '001',\n",
    "    'nama': 'bejo',\n",
    "    'usia': 25,\n",
    "    'ipk': 3.75\n",
    "}\n",
    "\n",
    "print('nama:{nama} usia:{usia}'.format(**siswa))"
   ]
  },
  {
   "cell_type": "markdown",
   "metadata": {
    "slideshow": {
     "slide_type": "subslide"
    }
   },
   "source": [
    "## [Pythonic] f-string (3/3)"
   ]
  },
  {
   "cell_type": "code",
   "execution_count": 59,
   "metadata": {},
   "outputs": [
    {
     "name": "stdout",
     "output_type": "stream",
     "text": [
      "nama:bejo usia:25\n"
     ]
    }
   ],
   "source": [
    "nama = 'bejo'\n",
    "usia = 25\n",
    "  \n",
    "print(f'nama:{nama} usia:{usia}')"
   ]
  },
  {
   "cell_type": "markdown",
   "metadata": {
    "slideshow": {
     "slide_type": "slide"
    }
   },
   "source": [
    "## [Conventional] Merging Dictionaries"
   ]
  },
  {
   "cell_type": "code",
   "execution_count": 60,
   "metadata": {},
   "outputs": [
    {
     "name": "stdout",
     "output_type": "stream",
     "text": [
      "data1: {'nim': '001', 'nama': 'bejo'}\n",
      "data2: {'ipk': 3.25, 'semester': 4}\n",
      "siswa: {'nim': '001', 'nama': 'bejo', 'ipk': 3.25, 'semester': 4}\n"
     ]
    }
   ],
   "source": [
    "data1 = {'nim': '001', 'nama': 'bejo'}\n",
    "data2 = {'ipk': 3.25, 'semester': 4}\n",
    "siswa = {}\n",
    "\n",
    "for kunci in data1:\n",
    "    siswa[kunci] = data1[kunci]\n",
    "\n",
    "for kunci in data2:\n",
    "    siswa[kunci] = data2[kunci]\n",
    "\n",
    "print(f'data1: {data1}')\n",
    "print(f'data2: {data2}')\n",
    "print(f'siswa: {siswa}')"
   ]
  },
  {
   "cell_type": "markdown",
   "metadata": {
    "slideshow": {
     "slide_type": "subslide"
    }
   },
   "source": [
    "## [Pythonic] Merging Dictionaries"
   ]
  },
  {
   "cell_type": "code",
   "execution_count": 61,
   "metadata": {},
   "outputs": [
    {
     "name": "stdout",
     "output_type": "stream",
     "text": [
      "data1: {'nim': '001', 'nama': 'bejo'}\n",
      "data2: {'ipk': 3.25, 'semester': 4}\n",
      "data3: {'kota': 'Palembang', 'hobi': 'membaca'}\n",
      "siswa: {'nim': '001', 'nama': 'bejo', 'ipk': 3.25, 'semester': 4, 'kota': 'Palembang', 'hobi': 'membaca'}\n"
     ]
    }
   ],
   "source": [
    "data1 = {'nim': '001', 'nama': 'bejo'}\n",
    "data2 = {'ipk': 3.25, 'semester': 4}\n",
    "data3 = {'kota': 'Palembang', 'hobi': 'membaca'}\n",
    "\n",
    "siswa = {**data1, **data2, **data3}\n",
    "\n",
    "print(f'data1: {data1}')\n",
    "print(f'data2: {data2}')\n",
    "print(f'data3: {data3}')\n",
    "print(f'siswa: {siswa}')"
   ]
  },
  {
   "cell_type": "markdown",
   "metadata": {
    "slideshow": {
     "slide_type": "slide"
    }
   },
   "source": [
    "## [Conventional] Too Much or Operators"
   ]
  },
  {
   "cell_type": "code",
   "execution_count": 62,
   "metadata": {},
   "outputs": [
    {
     "name": "stdout",
     "output_type": "stream",
     "text": [
      "Siswa teladan\n"
     ]
    }
   ],
   "source": [
    "nama = 'bejo'\n",
    "\n",
    "if nama == 'bejo' or nama == 'tejo' or nama == 'karti':\n",
    "    print('Siswa teladan')\n",
    "else:\n",
    "    print('Siswa reguler')"
   ]
  },
  {
   "cell_type": "markdown",
   "metadata": {
    "slideshow": {
     "slide_type": "subslide"
    }
   },
   "source": [
    "## [Pythonic] Replacing or Operators with in Operator"
   ]
  },
  {
   "cell_type": "code",
   "execution_count": 63,
   "metadata": {},
   "outputs": [
    {
     "name": "stdout",
     "output_type": "stream",
     "text": [
      "Siswa teladan\n"
     ]
    }
   ],
   "source": [
    "nama = 'bejo'\n",
    "\n",
    "if nama in ('bejo', 'tejo', 'karti'):\n",
    "    print('Siswa teladan')\n",
    "else:\n",
    "    print('Siswa reguler')"
   ]
  },
  {
   "cell_type": "markdown",
   "metadata": {
    "slideshow": {
     "slide_type": "slide"
    }
   },
   "source": [
    "## [Conventional] String Translation Table"
   ]
  },
  {
   "cell_type": "code",
   "execution_count": 64,
   "metadata": {},
   "outputs": [
    {
     "name": "stdout",
     "output_type": "stream",
     "text": [
      "hasil konversi: k0t4 c1r3b0n\n"
     ]
    }
   ],
   "source": [
    "translasi = {\n",
    "    'a': '4',\n",
    "    'i': '1',\n",
    "    'e': '3',\n",
    "    'o': '0'\n",
    "}\n",
    "\n",
    "string_input = 'kota cirebon'\n",
    "string_output = ''\n",
    "\n",
    "for x in string_input:\n",
    "    val = translasi.get(x)\n",
    "    string_output += val if val else x\n",
    "    \n",
    "print(f'hasil konversi: {string_output}')"
   ]
  },
  {
   "cell_type": "markdown",
   "metadata": {
    "slideshow": {
     "slide_type": "subslide"
    }
   },
   "source": [
    "## [Pythonic] String Translation Table"
   ]
  },
  {
   "cell_type": "code",
   "execution_count": 65,
   "metadata": {},
   "outputs": [
    {
     "name": "stdout",
     "output_type": "stream",
     "text": [
      "hasil konversi: 805 84j4j\n"
     ]
    }
   ],
   "source": [
    "sumber = 'aieostb'\n",
    "tujuan = '4130578'\n",
    "tabel_translasi = str.maketrans(sumber, tujuan)\n",
    "\n",
    "string_input = 'bos bajaj'\n",
    "string_output = string_input.translate(tabel_translasi)\n",
    "\n",
    "print(f'hasil konversi: {string_output}')"
   ]
  },
  {
   "cell_type": "markdown",
   "metadata": {
    "slideshow": {
     "slide_type": "slide"
    }
   },
   "source": [
    "## [Conventional] Multiple Assignments"
   ]
  },
  {
   "cell_type": "code",
   "execution_count": 66,
   "metadata": {},
   "outputs": [
    {
     "name": "stdout",
     "output_type": "stream",
     "text": [
      "a:10, b:10, c:10\n"
     ]
    }
   ],
   "source": [
    "a = 10\n",
    "b = 10\n",
    "c = 10\n",
    "\n",
    "print(f'a:{a}, b:{b}, c:{c}')"
   ]
  },
  {
   "cell_type": "markdown",
   "metadata": {
    "slideshow": {
     "slide_type": "subslide"
    }
   },
   "source": [
    "## [Pythonic] Multiple Assignments"
   ]
  },
  {
   "cell_type": "code",
   "execution_count": 67,
   "metadata": {},
   "outputs": [
    {
     "name": "stdout",
     "output_type": "stream",
     "text": [
      "a:10, b:10, c:10\n"
     ]
    }
   ],
   "source": [
    "a = b = c = 10\n",
    "\n",
    "print(f'a:{a}, b:{b}, c:{c}')"
   ]
  },
  {
   "cell_type": "markdown",
   "metadata": {
    "slideshow": {
     "slide_type": "slide"
    }
   },
   "source": [
    "## [Conventional] Functional Calls only Support Positional Argument"
   ]
  },
  {
   "cell_type": "code",
   "execution_count": 68,
   "metadata": {},
   "outputs": [
    {
     "name": "stdout",
     "output_type": "stream",
     "text": [
      "Karti Susanti\n",
      "Susanti Karti\n"
     ]
    }
   ],
   "source": [
    "def cetak_nama(f_name, l_name):\n",
    "    print(f'{f_name} {l_name}')\n",
    "\n",
    "cetak_nama('Karti', 'Susanti')\n",
    "cetak_nama('Susanti', 'Karti')"
   ]
  },
  {
   "cell_type": "markdown",
   "metadata": {
    "slideshow": {
     "slide_type": "subslide"
    }
   },
   "source": [
    "## [Pythonic] Functional Calls also Support Keyword Argument"
   ]
  },
  {
   "cell_type": "code",
   "execution_count": 69,
   "metadata": {},
   "outputs": [
    {
     "name": "stdout",
     "output_type": "stream",
     "text": [
      "Karti Susanti\n",
      "Karti Susanti\n"
     ]
    }
   ],
   "source": [
    "def cetak_nama(f_name, l_name):\n",
    "    print(f'{f_name} {l_name}')\n",
    "\n",
    "cetak_nama(f_name='Karti', l_name='Susanti')\n",
    "cetak_nama(l_name='Susanti', f_name='Karti')"
   ]
  },
  {
   "cell_type": "markdown",
   "metadata": {
    "slideshow": {
     "slide_type": "subslide"
    }
   },
   "source": [
    "## [Pythonic] Function with Default Argument"
   ]
  },
  {
   "cell_type": "code",
   "execution_count": 70,
   "metadata": {},
   "outputs": [
    {
     "name": "stdout",
     "output_type": "stream",
     "text": [
      "Bejo ajah\n",
      "Karti Susanti\n"
     ]
    }
   ],
   "source": [
    "def cetak_nama(f_name, l_name='ajah'):\n",
    "    print(f'{f_name} {l_name}')\n",
    "    \n",
    "cetak_nama('Bejo')\n",
    "cetak_nama('Karti', 'Susanti')"
   ]
  },
  {
   "cell_type": "markdown",
   "metadata": {
    "slideshow": {
     "slide_type": "slide"
    }
   },
   "source": [
    "## [Not So Pythonic] Sorting with sort Method"
   ]
  },
  {
   "cell_type": "code",
   "execution_count": 71,
   "metadata": {},
   "outputs": [
    {
     "name": "stdout",
     "output_type": "stream",
     "text": [
      "siswa  : ['karti susanti', 'tejo purnawan', 'bejo rahmadi']\n",
      "terurut: ['bejo rahmadi', 'karti susanti', 'tejo purnawan']\n"
     ]
    }
   ],
   "source": [
    "siswa = ['karti susanti', 'tejo purnawan', 'bejo rahmadi']\n",
    "print(f'siswa  : {siswa}')\n",
    "\n",
    "siswa.sort()\n",
    "print(f'terurut: {siswa}')"
   ]
  },
  {
   "cell_type": "markdown",
   "metadata": {
    "slideshow": {
     "slide_type": "subslide"
    }
   },
   "source": [
    "## [Pythonic] Sorting with sorted Function"
   ]
  },
  {
   "cell_type": "code",
   "execution_count": 72,
   "metadata": {},
   "outputs": [
    {
     "name": "stdout",
     "output_type": "stream",
     "text": [
      "siswa  : ['karti susanti', 'tejo purnawan', 'bejo rahmadi']\n",
      "terurut: ['bejo rahmadi', 'karti susanti', 'tejo purnawan']\n"
     ]
    }
   ],
   "source": [
    "siswa = ['karti susanti', 'tejo purnawan', 'bejo rahmadi']\n",
    "print(f'siswa  : {siswa}')\n",
    "\n",
    "terurut = sorted(siswa)\n",
    "print(f'terurut: {terurut}')"
   ]
  },
  {
   "cell_type": "markdown",
   "metadata": {
    "slideshow": {
     "slide_type": "slide"
    }
   },
   "source": [
    "## [Conventional] Custom Sorting"
   ]
  },
  {
   "cell_type": "code",
   "execution_count": 73,
   "metadata": {},
   "outputs": [
    {
     "name": "stdout",
     "output_type": "stream",
     "text": [
      "siswa: ['karti susanti', 'tejo purnawan', 'bejo rahmadi']\n",
      "terurut: ['tejo purnawan', 'bejo rahmadi', 'karti susanti']\n"
     ]
    }
   ],
   "source": [
    "siswa = ['karti susanti', 'tejo purnawan', 'bejo rahmadi']\n",
    "print(f'siswa: {siswa}')\n",
    "\n",
    "for i in range(len(siswa)-1):\n",
    "    for j in range(i+1, len(siswa)):\n",
    "        if siswa[i].split()[-1] > siswa[j].split()[-1]:\n",
    "            siswa[i], siswa[j] = siswa[j], siswa[i]\n",
    "\n",
    "print(f'terurut: {siswa}')"
   ]
  },
  {
   "cell_type": "markdown",
   "metadata": {
    "slideshow": {
     "slide_type": "subslide"
    }
   },
   "source": [
    "## [Pythonic] Custom Sorting (1/2)"
   ]
  },
  {
   "cell_type": "code",
   "execution_count": 74,
   "metadata": {},
   "outputs": [
    {
     "name": "stdout",
     "output_type": "stream",
     "text": [
      "siswa: ['karti susanti', 'tejo purnawan', 'bejo rahmadi']\n",
      "terurut: ['tejo purnawan', 'bejo rahmadi', 'karti susanti']\n"
     ]
    }
   ],
   "source": [
    "def custom_key(nama):\n",
    "    return nama.split()[-1]\n",
    "\n",
    "siswa = ['karti susanti', 'tejo purnawan', 'bejo rahmadi']\n",
    "print(f'siswa: {siswa}')\n",
    "\n",
    "terurut = sorted(siswa, key=custom_key)\n",
    "print(f'terurut: {terurut}')"
   ]
  },
  {
   "cell_type": "markdown",
   "metadata": {
    "slideshow": {
     "slide_type": "subslide"
    }
   },
   "source": [
    "## [Pythonic] Custom Sorting (2/2)"
   ]
  },
  {
   "cell_type": "code",
   "execution_count": 75,
   "metadata": {},
   "outputs": [
    {
     "name": "stdout",
     "output_type": "stream",
     "text": [
      "siswa: ['karti susanti', 'tejo purnawan', 'bejo rahmadi']\n",
      "terurut: ['tejo purnawan', 'bejo rahmadi', 'karti susanti']\n"
     ]
    }
   ],
   "source": [
    "siswa = ['karti susanti', 'tejo purnawan', 'bejo rahmadi']\n",
    "print(f'siswa: {siswa}')\n",
    "\n",
    "terurut = sorted(siswa, key=lambda x: x.split()[-1])\n",
    "print(f'terurut: {terurut}')"
   ]
  },
  {
   "cell_type": "markdown",
   "metadata": {
    "slideshow": {
     "slide_type": "slide"
    }
   },
   "source": [
    "## And there are many other tricks...\n",
    "## to improve our workflow with Python :)"
   ]
  },
  {
   "cell_type": "markdown",
   "metadata": {
    "slideshow": {
     "slide_type": "slide"
    }
   },
   "source": [
    "## Other Learning Materials"
   ]
  },
  {
   "cell_type": "code",
   "execution_count": 76,
   "metadata": {},
   "outputs": [
    {
     "data": {
      "image/jpeg": "[encoded data removed]",
      "text/html": [
       "\n",
       "        <iframe\n",
       "            width=\"400\"\n",
       "            height=\"300\"\n",
       "            src=\"https://www.youtube.com/embed/BHP3J8akr74\"\n",
       "            frameborder=\"0\"\n",
       "            allowfullscreen\n",
       "        ></iframe>\n",
       "        "
      ],
      "text/plain": [
       "<IPython.lib.display.YouTubeVideo at 0x7f46480c40d0>"
      ]
     },
     "execution_count": 76,
     "metadata": {},
     "output_type": "execute_result"
    }
   ],
   "source": [
    "from IPython.display import YouTubeVideo\n",
    "YouTubeVideo('BHP3J8akr74')"
   ]
  },
  {
   "cell_type": "code",
   "execution_count": 77,
   "metadata": {
    "slideshow": {
     "slide_type": "subslide"
    }
   },
   "outputs": [
    {
     "data": {
      "image/jpeg": "[encoded data removed]",
      "text/html": [
       "\n",
       "        <iframe\n",
       "            width=\"400\"\n",
       "            height=\"300\"\n",
       "            src=\"https://www.youtube.com/embed/3Og1xO15HhQ\"\n",
       "            frameborder=\"0\"\n",
       "            allowfullscreen\n",
       "        ></iframe>\n",
       "        "
      ],
      "text/plain": [
       "<IPython.lib.display.YouTubeVideo at 0x7f46480394d0>"
      ]
     },
     "execution_count": 77,
     "metadata": {},
     "output_type": "execute_result"
    }
   ],
   "source": [
    "YouTubeVideo('3Og1xO15HhQ')"
   ]
  },
  {
   "cell_type": "code",
   "execution_count": 78,
   "metadata": {
    "slideshow": {
     "slide_type": "subslide"
    }
   },
   "outputs": [
    {
     "data": {
      "image/jpeg": "[encoded data removed]",
      "text/html": [
       "\n",
       "        <iframe\n",
       "            width=\"400\"\n",
       "            height=\"300\"\n",
       "            src=\"https://www.youtube.com/embed/kwlRZUjzsns\"\n",
       "            frameborder=\"0\"\n",
       "            allowfullscreen\n",
       "        ></iframe>\n",
       "        "
      ],
      "text/plain": [
       "<IPython.lib.display.YouTubeVideo at 0x7f464801af90>"
      ]
     },
     "execution_count": 78,
     "metadata": {},
     "output_type": "execute_result"
    }
   ],
   "source": [
    "YouTubeVideo('kwlRZUjzsns')"
   ]
  },
  {
   "cell_type": "markdown",
   "metadata": {
    "slideshow": {
     "slide_type": "slide"
    }
   },
   "source": [
    "# Q&A"
   ]
  },
  {
   "cell_type": "markdown",
   "metadata": {},
   "source": [
    "## Questions and Comments are Welcome :)"
   ]
  },
  {
   "cell_type": "markdown",
   "metadata": {
    "slideshow": {
     "slide_type": "slide"
    }
   },
   "source": [
    "## That's all folks\n",
    "\n",
    "# Thank You.... :)\n",
    "## May The Force be with you...."
   ]
  }
 ],
 "metadata": {
  "celltoolbar": "Slideshow",
  "kernelspec": {
   "display_name": "Python 3",
   "language": "python",
   "name": "python3"
  },
  "language_info": {
   "codemirror_mode": {
    "name": "ipython",
    "version": 3
   },
   "file_extension": ".py",
   "mimetype": "text/x-python",
   "name": "python",
   "nbconvert_exporter": "python",
   "pygments_lexer": "ipython3",
   "version": "3.7.7"
  }
 },
 "nbformat": 4,
 "nbformat_minor": 2
}
